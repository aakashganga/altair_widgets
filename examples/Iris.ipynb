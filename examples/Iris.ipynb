{
 "cells": [
  {
   "cell_type": "code",
   "execution_count": 1,
   "metadata": {
    "ExecuteTime": {
     "end_time": "2016-10-30T17:01:23.172700",
     "start_time": "2016-10-30T17:01:22.508220"
    },
    "collapsed": false
   },
   "outputs": [],
   "source": [
    "from altair import load_dataset\n",
    "import sys\n",
    "sys.path.append('..')\n",
    "from altair_widgets import interact_with"
   ]
  },
  {
   "cell_type": "code",
   "execution_count": 2,
   "metadata": {
    "ExecuteTime": {
     "end_time": "2016-10-30T17:01:24.427662",
     "start_time": "2016-10-30T17:01:23.174161"
    },
    "collapsed": false
   },
   "outputs": [
    {
     "data": {
      "text/html": [
       "<div>\n",
       "<table border=\"1\" class=\"dataframe\">\n",
       "  <thead>\n",
       "    <tr style=\"text-align: right;\">\n",
       "      <th></th>\n",
       "      <th>petalLength</th>\n",
       "      <th>petalWidth</th>\n",
       "      <th>sepalLength</th>\n",
       "      <th>sepalWidth</th>\n",
       "      <th>species</th>\n",
       "    </tr>\n",
       "  </thead>\n",
       "  <tbody>\n",
       "    <tr>\n",
       "      <th>0</th>\n",
       "      <td>1.4</td>\n",
       "      <td>0.2</td>\n",
       "      <td>5.1</td>\n",
       "      <td>3.5</td>\n",
       "      <td>setosa</td>\n",
       "    </tr>\n",
       "    <tr>\n",
       "      <th>1</th>\n",
       "      <td>1.4</td>\n",
       "      <td>0.2</td>\n",
       "      <td>4.9</td>\n",
       "      <td>3.0</td>\n",
       "      <td>setosa</td>\n",
       "    </tr>\n",
       "    <tr>\n",
       "      <th>2</th>\n",
       "      <td>1.3</td>\n",
       "      <td>0.2</td>\n",
       "      <td>4.7</td>\n",
       "      <td>3.2</td>\n",
       "      <td>setosa</td>\n",
       "    </tr>\n",
       "    <tr>\n",
       "      <th>3</th>\n",
       "      <td>1.5</td>\n",
       "      <td>0.2</td>\n",
       "      <td>4.6</td>\n",
       "      <td>3.1</td>\n",
       "      <td>setosa</td>\n",
       "    </tr>\n",
       "    <tr>\n",
       "      <th>4</th>\n",
       "      <td>1.4</td>\n",
       "      <td>0.2</td>\n",
       "      <td>5.0</td>\n",
       "      <td>3.6</td>\n",
       "      <td>setosa</td>\n",
       "    </tr>\n",
       "  </tbody>\n",
       "</table>\n",
       "</div>"
      ],
      "text/plain": [
       "   petalLength  petalWidth  sepalLength  sepalWidth species\n",
       "0          1.4         0.2          5.1         3.5  setosa\n",
       "1          1.4         0.2          4.9         3.0  setosa\n",
       "2          1.3         0.2          4.7         3.2  setosa\n",
       "3          1.5         0.2          4.6         3.1  setosa\n",
       "4          1.4         0.2          5.0         3.6  setosa"
      ]
     },
     "execution_count": 2,
     "metadata": {},
     "output_type": "execute_result"
    }
   ],
   "source": [
    "df = load_dataset('iris')\n",
    "df.head()"
   ]
  },
  {
   "cell_type": "code",
   "execution_count": 10,
   "metadata": {
    "ExecuteTime": {
     "end_time": "2016-10-30T17:09:58.831265",
     "start_time": "2016-10-30T17:09:58.729964"
    },
    "collapsed": false
   },
   "outputs": [
    {
     "data": {
      "text/html": [
       "<div class=\"vega-embed\" id=\"d78fc348-8f15-4f44-92f8-4127c2059b9d\"></div>\n",
       "\n",
       "<style>\n",
       ".vega-embed svg, .vega-embed canvas {\n",
       "  border: 1px dotted gray;\n",
       "}\n",
       "\n",
       ".vega-embed .vega-actions a {\n",
       "  margin-right: 6px;\n",
       "}\n",
       "</style>\n"
      ]
     },
     "metadata": {
      "jupyter-vega": "#d78fc348-8f15-4f44-92f8-4127c2059b9d"
     },
     "output_type": "display_data"
    },
    {
     "data": {
      "application/javascript": [
       "var spec = {\"config\": {\"cell\": {\"width\": 500, \"height\": 350}}, \"encoding\": {\"color\": {\"field\": \"species\", \"type\": \"nominal\"}, \"y\": {\"field\": \"petalWidth\", \"type\": \"quantitative\", \"aggregate\": \"stdev\"}, \"x\": {\"field\": \"species\", \"type\": \"nominal\"}}, \"data\": {\"values\": [{\"petalLength\": 1.4, \"species\": \"setosa\", \"sepalWidth\": 3.5, \"sepalLength\": 5.1, \"petalWidth\": 0.2}, {\"petalLength\": 1.4, \"species\": \"setosa\", \"sepalWidth\": 3.0, \"sepalLength\": 4.9, \"petalWidth\": 0.2}, {\"petalLength\": 1.3, \"species\": \"setosa\", \"sepalWidth\": 3.2, \"sepalLength\": 4.7, \"petalWidth\": 0.2}, {\"petalLength\": 1.5, \"species\": \"setosa\", \"sepalWidth\": 3.1, \"sepalLength\": 4.6, \"petalWidth\": 0.2}, {\"petalLength\": 1.4, \"species\": \"setosa\", \"sepalWidth\": 3.6, \"sepalLength\": 5.0, \"petalWidth\": 0.2}, {\"petalLength\": 1.7000000000000002, \"species\": \"setosa\", \"sepalWidth\": 3.9, \"sepalLength\": 5.4, \"petalWidth\": 0.4}, {\"petalLength\": 1.4, \"species\": \"setosa\", \"sepalWidth\": 3.4, \"sepalLength\": 4.6, \"petalWidth\": 0.30000000000000004}, {\"petalLength\": 1.5, \"species\": \"setosa\", \"sepalWidth\": 3.4, \"sepalLength\": 5.0, \"petalWidth\": 0.2}, {\"petalLength\": 1.4, \"species\": \"setosa\", \"sepalWidth\": 2.9, \"sepalLength\": 4.4, \"petalWidth\": 0.2}, {\"petalLength\": 1.5, \"species\": \"setosa\", \"sepalWidth\": 3.1, \"sepalLength\": 4.9, \"petalWidth\": 0.1}, {\"petalLength\": 1.5, \"species\": \"setosa\", \"sepalWidth\": 3.7, \"sepalLength\": 5.4, \"petalWidth\": 0.2}, {\"petalLength\": 1.6, \"species\": \"setosa\", \"sepalWidth\": 3.4, \"sepalLength\": 4.8, \"petalWidth\": 0.2}, {\"petalLength\": 1.4, \"species\": \"setosa\", \"sepalWidth\": 3.0, \"sepalLength\": 4.8, \"petalWidth\": 0.1}, {\"petalLength\": 1.1, \"species\": \"setosa\", \"sepalWidth\": 3.0, \"sepalLength\": 4.3, \"petalWidth\": 0.1}, {\"petalLength\": 1.2, \"species\": \"setosa\", \"sepalWidth\": 4.0, \"sepalLength\": 5.8, \"petalWidth\": 0.2}, {\"petalLength\": 1.5, \"species\": \"setosa\", \"sepalWidth\": 4.4, \"sepalLength\": 5.7, \"petalWidth\": 0.4}, {\"petalLength\": 1.3, \"species\": \"setosa\", \"sepalWidth\": 3.9, \"sepalLength\": 5.4, \"petalWidth\": 0.4}, {\"petalLength\": 1.4, \"species\": \"setosa\", \"sepalWidth\": 3.5, \"sepalLength\": 5.1, \"petalWidth\": 0.30000000000000004}, {\"petalLength\": 1.7000000000000002, \"species\": \"setosa\", \"sepalWidth\": 3.8, \"sepalLength\": 5.7, \"petalWidth\": 0.30000000000000004}, {\"petalLength\": 1.5, \"species\": \"setosa\", \"sepalWidth\": 3.8, \"sepalLength\": 5.1, \"petalWidth\": 0.30000000000000004}, {\"petalLength\": 1.7000000000000002, \"species\": \"setosa\", \"sepalWidth\": 3.4, \"sepalLength\": 5.4, \"petalWidth\": 0.2}, {\"petalLength\": 1.5, \"species\": \"setosa\", \"sepalWidth\": 3.7, \"sepalLength\": 5.1, \"petalWidth\": 0.4}, {\"petalLength\": 1.0, \"species\": \"setosa\", \"sepalWidth\": 3.6, \"sepalLength\": 4.6, \"petalWidth\": 0.2}, {\"petalLength\": 1.7000000000000002, \"species\": \"setosa\", \"sepalWidth\": 3.3, \"sepalLength\": 5.1, \"petalWidth\": 0.5}, {\"petalLength\": 1.9, \"species\": \"setosa\", \"sepalWidth\": 3.4, \"sepalLength\": 4.8, \"petalWidth\": 0.2}, {\"petalLength\": 1.6, \"species\": \"setosa\", \"sepalWidth\": 3.0, \"sepalLength\": 5.0, \"petalWidth\": 0.2}, {\"petalLength\": 1.6, \"species\": \"setosa\", \"sepalWidth\": 3.4, \"sepalLength\": 5.0, \"petalWidth\": 0.4}, {\"petalLength\": 1.5, \"species\": \"setosa\", \"sepalWidth\": 3.5, \"sepalLength\": 5.2, \"petalWidth\": 0.2}, {\"petalLength\": 1.4, \"species\": \"setosa\", \"sepalWidth\": 3.4, \"sepalLength\": 5.2, \"petalWidth\": 0.2}, {\"petalLength\": 1.6, \"species\": \"setosa\", \"sepalWidth\": 3.2, \"sepalLength\": 4.7, \"petalWidth\": 0.2}, {\"petalLength\": 1.6, \"species\": \"setosa\", \"sepalWidth\": 3.1, \"sepalLength\": 4.8, \"petalWidth\": 0.2}, {\"petalLength\": 1.5, \"species\": \"setosa\", \"sepalWidth\": 3.4, \"sepalLength\": 5.4, \"petalWidth\": 0.4}, {\"petalLength\": 1.5, \"species\": \"setosa\", \"sepalWidth\": 4.1, \"sepalLength\": 5.2, \"petalWidth\": 0.1}, {\"petalLength\": 1.4, \"species\": \"setosa\", \"sepalWidth\": 4.2, \"sepalLength\": 5.5, \"petalWidth\": 0.2}, {\"petalLength\": 1.5, \"species\": \"setosa\", \"sepalWidth\": 3.1, \"sepalLength\": 4.9, \"petalWidth\": 0.2}, {\"petalLength\": 1.2, \"species\": \"setosa\", \"sepalWidth\": 3.2, \"sepalLength\": 5.0, \"petalWidth\": 0.2}, {\"petalLength\": 1.3, \"species\": \"setosa\", \"sepalWidth\": 3.5, \"sepalLength\": 5.5, \"petalWidth\": 0.2}, {\"petalLength\": 1.4, \"species\": \"setosa\", \"sepalWidth\": 3.6, \"sepalLength\": 4.9, \"petalWidth\": 0.1}, {\"petalLength\": 1.3, \"species\": \"setosa\", \"sepalWidth\": 3.0, \"sepalLength\": 4.4, \"petalWidth\": 0.2}, {\"petalLength\": 1.5, \"species\": \"setosa\", \"sepalWidth\": 3.4, \"sepalLength\": 5.1, \"petalWidth\": 0.2}, {\"petalLength\": 1.3, \"species\": \"setosa\", \"sepalWidth\": 3.5, \"sepalLength\": 5.0, \"petalWidth\": 0.30000000000000004}, {\"petalLength\": 1.3, \"species\": \"setosa\", \"sepalWidth\": 2.3, \"sepalLength\": 4.5, \"petalWidth\": 0.30000000000000004}, {\"petalLength\": 1.3, \"species\": \"setosa\", \"sepalWidth\": 3.2, \"sepalLength\": 4.4, \"petalWidth\": 0.2}, {\"petalLength\": 1.6, \"species\": \"setosa\", \"sepalWidth\": 3.5, \"sepalLength\": 5.0, \"petalWidth\": 0.6000000000000001}, {\"petalLength\": 1.9, \"species\": \"setosa\", \"sepalWidth\": 3.8, \"sepalLength\": 5.1, \"petalWidth\": 0.4}, {\"petalLength\": 1.4, \"species\": \"setosa\", \"sepalWidth\": 3.0, \"sepalLength\": 4.8, \"petalWidth\": 0.30000000000000004}, {\"petalLength\": 1.6, \"species\": \"setosa\", \"sepalWidth\": 3.8, \"sepalLength\": 5.1, \"petalWidth\": 0.2}, {\"petalLength\": 1.4, \"species\": \"setosa\", \"sepalWidth\": 3.2, \"sepalLength\": 4.6, \"petalWidth\": 0.2}, {\"petalLength\": 1.5, \"species\": \"setosa\", \"sepalWidth\": 3.7, \"sepalLength\": 5.3, \"petalWidth\": 0.2}, {\"petalLength\": 1.4, \"species\": \"setosa\", \"sepalWidth\": 3.3, \"sepalLength\": 5.0, \"petalWidth\": 0.2}, {\"petalLength\": 4.7, \"species\": \"versicolor\", \"sepalWidth\": 3.2, \"sepalLength\": 7.0, \"petalWidth\": 1.4}, {\"petalLength\": 4.5, \"species\": \"versicolor\", \"sepalWidth\": 3.2, \"sepalLength\": 6.4, \"petalWidth\": 1.5}, {\"petalLength\": 4.9, \"species\": \"versicolor\", \"sepalWidth\": 3.1, \"sepalLength\": 6.9, \"petalWidth\": 1.5}, {\"petalLength\": 4.0, \"species\": \"versicolor\", \"sepalWidth\": 2.3, \"sepalLength\": 5.5, \"petalWidth\": 1.3}, {\"petalLength\": 4.6, \"species\": \"versicolor\", \"sepalWidth\": 2.8, \"sepalLength\": 6.5, \"petalWidth\": 1.5}, {\"petalLength\": 4.5, \"species\": \"versicolor\", \"sepalWidth\": 2.8, \"sepalLength\": 5.7, \"petalWidth\": 1.3}, {\"petalLength\": 4.7, \"species\": \"versicolor\", \"sepalWidth\": 3.3, \"sepalLength\": 6.3, \"petalWidth\": 1.6}, {\"petalLength\": 3.3, \"species\": \"versicolor\", \"sepalWidth\": 2.4, \"sepalLength\": 4.9, \"petalWidth\": 1.0}, {\"petalLength\": 4.6, \"species\": \"versicolor\", \"sepalWidth\": 2.9, \"sepalLength\": 6.6, \"petalWidth\": 1.3}, {\"petalLength\": 3.9, \"species\": \"versicolor\", \"sepalWidth\": 2.7, \"sepalLength\": 5.2, \"petalWidth\": 1.4}, {\"petalLength\": 3.5, \"species\": \"versicolor\", \"sepalWidth\": 2.0, \"sepalLength\": 5.0, \"petalWidth\": 1.0}, {\"petalLength\": 4.2, \"species\": \"versicolor\", \"sepalWidth\": 3.0, \"sepalLength\": 5.9, \"petalWidth\": 1.5}, {\"petalLength\": 4.0, \"species\": \"versicolor\", \"sepalWidth\": 2.2, \"sepalLength\": 6.0, \"petalWidth\": 1.0}, {\"petalLength\": 4.7, \"species\": \"versicolor\", \"sepalWidth\": 2.9, \"sepalLength\": 6.1, \"petalWidth\": 1.4}, {\"petalLength\": 3.6, \"species\": \"versicolor\", \"sepalWidth\": 2.9, \"sepalLength\": 5.6, \"petalWidth\": 1.3}, {\"petalLength\": 4.4, \"species\": \"versicolor\", \"sepalWidth\": 3.1, \"sepalLength\": 6.7, \"petalWidth\": 1.4}, {\"petalLength\": 4.5, \"species\": \"versicolor\", \"sepalWidth\": 3.0, \"sepalLength\": 5.6, \"petalWidth\": 1.5}, {\"petalLength\": 4.1, \"species\": \"versicolor\", \"sepalWidth\": 2.7, \"sepalLength\": 5.8, \"petalWidth\": 1.0}, {\"petalLength\": 4.5, \"species\": \"versicolor\", \"sepalWidth\": 2.2, \"sepalLength\": 6.2, \"petalWidth\": 1.5}, {\"petalLength\": 3.9, \"species\": \"versicolor\", \"sepalWidth\": 2.5, \"sepalLength\": 5.6, \"petalWidth\": 1.1}, {\"petalLength\": 4.8, \"species\": \"versicolor\", \"sepalWidth\": 3.2, \"sepalLength\": 5.9, \"petalWidth\": 1.8}, {\"petalLength\": 4.0, \"species\": \"versicolor\", \"sepalWidth\": 2.8, \"sepalLength\": 6.1, \"petalWidth\": 1.3}, {\"petalLength\": 4.9, \"species\": \"versicolor\", \"sepalWidth\": 2.5, \"sepalLength\": 6.3, \"petalWidth\": 1.5}, {\"petalLength\": 4.7, \"species\": \"versicolor\", \"sepalWidth\": 2.8, \"sepalLength\": 6.1, \"petalWidth\": 1.2}, {\"petalLength\": 4.3, \"species\": \"versicolor\", \"sepalWidth\": 2.9, \"sepalLength\": 6.4, \"petalWidth\": 1.3}, {\"petalLength\": 4.4, \"species\": \"versicolor\", \"sepalWidth\": 3.0, \"sepalLength\": 6.6, \"petalWidth\": 1.4}, {\"petalLength\": 4.8, \"species\": \"versicolor\", \"sepalWidth\": 2.8, \"sepalLength\": 6.8, \"petalWidth\": 1.4}, {\"petalLength\": 5.0, \"species\": \"versicolor\", \"sepalWidth\": 3.0, \"sepalLength\": 6.7, \"petalWidth\": 1.7000000000000002}, {\"petalLength\": 4.5, \"species\": \"versicolor\", \"sepalWidth\": 2.9, \"sepalLength\": 6.0, \"petalWidth\": 1.5}, {\"petalLength\": 3.5, \"species\": \"versicolor\", \"sepalWidth\": 2.6, \"sepalLength\": 5.7, \"petalWidth\": 1.0}, {\"petalLength\": 3.8, \"species\": \"versicolor\", \"sepalWidth\": 2.4, \"sepalLength\": 5.5, \"petalWidth\": 1.1}, {\"petalLength\": 3.7, \"species\": \"versicolor\", \"sepalWidth\": 2.4, \"sepalLength\": 5.5, \"petalWidth\": 1.0}, {\"petalLength\": 3.9, \"species\": \"versicolor\", \"sepalWidth\": 2.7, \"sepalLength\": 5.8, \"petalWidth\": 1.2}, {\"petalLength\": 5.1, \"species\": \"versicolor\", \"sepalWidth\": 2.7, \"sepalLength\": 6.0, \"petalWidth\": 1.6}, {\"petalLength\": 4.5, \"species\": \"versicolor\", \"sepalWidth\": 3.0, \"sepalLength\": 5.4, \"petalWidth\": 1.5}, {\"petalLength\": 4.5, \"species\": \"versicolor\", \"sepalWidth\": 3.4, \"sepalLength\": 6.0, \"petalWidth\": 1.6}, {\"petalLength\": 4.7, \"species\": \"versicolor\", \"sepalWidth\": 3.1, \"sepalLength\": 6.7, \"petalWidth\": 1.5}, {\"petalLength\": 4.4, \"species\": \"versicolor\", \"sepalWidth\": 2.3, \"sepalLength\": 6.3, \"petalWidth\": 1.3}, {\"petalLength\": 4.1, \"species\": \"versicolor\", \"sepalWidth\": 3.0, \"sepalLength\": 5.6, \"petalWidth\": 1.3}, {\"petalLength\": 4.0, \"species\": \"versicolor\", \"sepalWidth\": 2.5, \"sepalLength\": 5.5, \"petalWidth\": 1.3}, {\"petalLength\": 4.4, \"species\": \"versicolor\", \"sepalWidth\": 2.6, \"sepalLength\": 5.5, \"petalWidth\": 1.2}, {\"petalLength\": 4.6, \"species\": \"versicolor\", \"sepalWidth\": 3.0, \"sepalLength\": 6.1, \"petalWidth\": 1.4}, {\"petalLength\": 4.0, \"species\": \"versicolor\", \"sepalWidth\": 2.6, \"sepalLength\": 5.8, \"petalWidth\": 1.2}, {\"petalLength\": 3.3, \"species\": \"versicolor\", \"sepalWidth\": 2.3, \"sepalLength\": 5.0, \"petalWidth\": 1.0}, {\"petalLength\": 4.2, \"species\": \"versicolor\", \"sepalWidth\": 2.7, \"sepalLength\": 5.6, \"petalWidth\": 1.3}, {\"petalLength\": 4.2, \"species\": \"versicolor\", \"sepalWidth\": 3.0, \"sepalLength\": 5.7, \"petalWidth\": 1.2}, {\"petalLength\": 4.2, \"species\": \"versicolor\", \"sepalWidth\": 2.9, \"sepalLength\": 5.7, \"petalWidth\": 1.3}, {\"petalLength\": 4.3, \"species\": \"versicolor\", \"sepalWidth\": 2.9, \"sepalLength\": 6.2, \"petalWidth\": 1.3}, {\"petalLength\": 3.0, \"species\": \"versicolor\", \"sepalWidth\": 2.5, \"sepalLength\": 5.1, \"petalWidth\": 1.1}, {\"petalLength\": 4.1, \"species\": \"versicolor\", \"sepalWidth\": 2.8, \"sepalLength\": 5.7, \"petalWidth\": 1.3}, {\"petalLength\": 6.0, \"species\": \"virginica\", \"sepalWidth\": 3.3, \"sepalLength\": 6.3, \"petalWidth\": 2.5}, {\"petalLength\": 5.1, \"species\": \"virginica\", \"sepalWidth\": 2.7, \"sepalLength\": 5.8, \"petalWidth\": 1.9}, {\"petalLength\": 5.9, \"species\": \"virginica\", \"sepalWidth\": 3.0, \"sepalLength\": 7.1, \"petalWidth\": 2.1}, {\"petalLength\": 5.6, \"species\": \"virginica\", \"sepalWidth\": 2.9, \"sepalLength\": 6.3, \"petalWidth\": 1.8}, {\"petalLength\": 5.8, \"species\": \"virginica\", \"sepalWidth\": 3.0, \"sepalLength\": 6.5, \"petalWidth\": 2.2}, {\"petalLength\": 6.6, \"species\": \"virginica\", \"sepalWidth\": 3.0, \"sepalLength\": 7.6, \"petalWidth\": 2.1}, {\"petalLength\": 4.5, \"species\": \"virginica\", \"sepalWidth\": 2.5, \"sepalLength\": 4.9, \"petalWidth\": 1.7000000000000002}, {\"petalLength\": 6.3, \"species\": \"virginica\", \"sepalWidth\": 2.9, \"sepalLength\": 7.3, \"petalWidth\": 1.8}, {\"petalLength\": 5.8, \"species\": \"virginica\", \"sepalWidth\": 2.5, \"sepalLength\": 6.7, \"petalWidth\": 1.8}, {\"petalLength\": 6.1, \"species\": \"virginica\", \"sepalWidth\": 3.6, \"sepalLength\": 7.2, \"petalWidth\": 2.5}, {\"petalLength\": 5.1, \"species\": \"virginica\", \"sepalWidth\": 3.2, \"sepalLength\": 6.5, \"petalWidth\": 2.0}, {\"petalLength\": 5.3, \"species\": \"virginica\", \"sepalWidth\": 2.7, \"sepalLength\": 6.4, \"petalWidth\": 1.9}, {\"petalLength\": 5.5, \"species\": \"virginica\", \"sepalWidth\": 3.0, \"sepalLength\": 6.8, \"petalWidth\": 2.1}, {\"petalLength\": 5.0, \"species\": \"virginica\", \"sepalWidth\": 2.5, \"sepalLength\": 5.7, \"petalWidth\": 2.0}, {\"petalLength\": 5.1, \"species\": \"virginica\", \"sepalWidth\": 2.8, \"sepalLength\": 5.8, \"petalWidth\": 2.4}, {\"petalLength\": 5.3, \"species\": \"virginica\", \"sepalWidth\": 3.2, \"sepalLength\": 6.4, \"petalWidth\": 2.3}, {\"petalLength\": 5.5, \"species\": \"virginica\", \"sepalWidth\": 3.0, \"sepalLength\": 6.5, \"petalWidth\": 1.8}, {\"petalLength\": 6.7, \"species\": \"virginica\", \"sepalWidth\": 3.8, \"sepalLength\": 7.7, \"petalWidth\": 2.2}, {\"petalLength\": 6.9, \"species\": \"virginica\", \"sepalWidth\": 2.6, \"sepalLength\": 7.7, \"petalWidth\": 2.3}, {\"petalLength\": 5.0, \"species\": \"virginica\", \"sepalWidth\": 2.2, \"sepalLength\": 6.0, \"petalWidth\": 1.5}, {\"petalLength\": 5.7, \"species\": \"virginica\", \"sepalWidth\": 3.2, \"sepalLength\": 6.9, \"petalWidth\": 2.3}, {\"petalLength\": 4.9, \"species\": \"virginica\", \"sepalWidth\": 2.8, \"sepalLength\": 5.6, \"petalWidth\": 2.0}, {\"petalLength\": 6.7, \"species\": \"virginica\", \"sepalWidth\": 2.8, \"sepalLength\": 7.7, \"petalWidth\": 2.0}, {\"petalLength\": 4.9, \"species\": \"virginica\", \"sepalWidth\": 2.7, \"sepalLength\": 6.3, \"petalWidth\": 1.8}, {\"petalLength\": 5.7, \"species\": \"virginica\", \"sepalWidth\": 3.3, \"sepalLength\": 6.7, \"petalWidth\": 2.1}, {\"petalLength\": 6.0, \"species\": \"virginica\", \"sepalWidth\": 3.2, \"sepalLength\": 7.2, \"petalWidth\": 1.8}, {\"petalLength\": 4.8, \"species\": \"virginica\", \"sepalWidth\": 2.8, \"sepalLength\": 6.2, \"petalWidth\": 1.8}, {\"petalLength\": 4.9, \"species\": \"virginica\", \"sepalWidth\": 3.0, \"sepalLength\": 6.1, \"petalWidth\": 1.8}, {\"petalLength\": 5.6, \"species\": \"virginica\", \"sepalWidth\": 2.8, \"sepalLength\": 6.4, \"petalWidth\": 2.1}, {\"petalLength\": 5.8, \"species\": \"virginica\", \"sepalWidth\": 3.0, \"sepalLength\": 7.2, \"petalWidth\": 1.6}, {\"petalLength\": 6.1, \"species\": \"virginica\", \"sepalWidth\": 2.8, \"sepalLength\": 7.4, \"petalWidth\": 1.9}, {\"petalLength\": 6.4, \"species\": \"virginica\", \"sepalWidth\": 3.8, \"sepalLength\": 7.9, \"petalWidth\": 2.0}, {\"petalLength\": 5.6, \"species\": \"virginica\", \"sepalWidth\": 2.8, \"sepalLength\": 6.4, \"petalWidth\": 2.2}, {\"petalLength\": 5.1, \"species\": \"virginica\", \"sepalWidth\": 2.8, \"sepalLength\": 6.3, \"petalWidth\": 1.5}, {\"petalLength\": 5.6, \"species\": \"virginica\", \"sepalWidth\": 2.6, \"sepalLength\": 6.1, \"petalWidth\": 1.4}, {\"petalLength\": 6.1, \"species\": \"virginica\", \"sepalWidth\": 3.0, \"sepalLength\": 7.7, \"petalWidth\": 2.3}, {\"petalLength\": 5.6, \"species\": \"virginica\", \"sepalWidth\": 3.4, \"sepalLength\": 6.3, \"petalWidth\": 2.4}, {\"petalLength\": 5.5, \"species\": \"virginica\", \"sepalWidth\": 3.1, \"sepalLength\": 6.4, \"petalWidth\": 1.8}, {\"petalLength\": 4.8, \"species\": \"virginica\", \"sepalWidth\": 3.0, \"sepalLength\": 6.0, \"petalWidth\": 1.8}, {\"petalLength\": 5.4, \"species\": \"virginica\", \"sepalWidth\": 3.1, \"sepalLength\": 6.9, \"petalWidth\": 2.1}, {\"petalLength\": 5.6, \"species\": \"virginica\", \"sepalWidth\": 3.1, \"sepalLength\": 6.7, \"petalWidth\": 2.4}, {\"petalLength\": 5.1, \"species\": \"virginica\", \"sepalWidth\": 3.1, \"sepalLength\": 6.9, \"petalWidth\": 2.3}, {\"petalLength\": 5.1, \"species\": \"virginica\", \"sepalWidth\": 2.7, \"sepalLength\": 5.8, \"petalWidth\": 1.9}, {\"petalLength\": 5.9, \"species\": \"virginica\", \"sepalWidth\": 3.2, \"sepalLength\": 6.8, \"petalWidth\": 2.3}, {\"petalLength\": 5.7, \"species\": \"virginica\", \"sepalWidth\": 3.3, \"sepalLength\": 6.7, \"petalWidth\": 2.5}, {\"petalLength\": 5.2, \"species\": \"virginica\", \"sepalWidth\": 3.0, \"sepalLength\": 6.7, \"petalWidth\": 2.3}, {\"petalLength\": 5.0, \"species\": \"virginica\", \"sepalWidth\": 2.5, \"sepalLength\": 6.3, \"petalWidth\": 1.9}, {\"petalLength\": 5.2, \"species\": \"virginica\", \"sepalWidth\": 3.0, \"sepalLength\": 6.5, \"petalWidth\": 2.0}, {\"petalLength\": 5.4, \"species\": \"virginica\", \"sepalWidth\": 3.4, \"sepalLength\": 6.2, \"petalWidth\": 2.3}, {\"petalLength\": 5.1, \"species\": \"virginica\", \"sepalWidth\": 3.0, \"sepalLength\": 5.9, \"petalWidth\": 1.8}]}, \"mark\": \"bar\"};\n",
       "var selector = \"#d78fc348-8f15-4f44-92f8-4127c2059b9d\";\n",
       "var type = \"vega-lite\";\n",
       "\n",
       "var output_area = this;\n",
       "require(['nbextensions/jupyter-vega/index'], function(vega) {\n",
       "  vega.render(selector, spec, type, output_area);\n",
       "}, function (err) {\n",
       "  if (err.requireType !== 'scripterror') {\n",
       "    throw(err);\n",
       "  }\n",
       "});\n"
      ]
     },
     "metadata": {
      "jupyter-vega": "#d78fc348-8f15-4f44-92f8-4127c2059b9d"
     },
     "output_type": "display_data"
    },
    {
     "data": {
      "image/png": "[encoded data removed]"
     },
     "metadata": {
      "jupyter-vega": "#d78fc348-8f15-4f44-92f8-4127c2059b9d"
     },
     "output_type": "display_data"
    }
   ],
   "source": [
    "interact_with(df)"
   ]
  },
  {
   "cell_type": "code",
   "execution_count": null,
   "metadata": {
    "collapsed": true
   },
   "outputs": [],
   "source": []
  }
 ],
 "metadata": {
  "kernelspec": {
   "display_name": "Python [default]",
   "language": "python",
   "name": "python3"
  },
  "language_info": {
   "codemirror_mode": {
    "name": "ipython",
    "version": 3
   },
   "file_extension": ".py",
   "mimetype": "text/x-python",
   "name": "python",
   "nbconvert_exporter": "python",
   "pygments_lexer": "ipython3",
   "version": "3.5.2"
  },
  "nav_menu": {},
  "toc": {
   "navigate_menu": true,
   "number_sections": false,
   "sideBar": true,
   "threshold": "2",
   "toc_cell": false,
   "toc_section_display": "block",
   "toc_window_display": false
  },
  "widgets": {
   "state": {
    "6d47387641ce4ee6ba28110d69decde5": {
     "views": [
      {
       "cell_index": 2
      }
     ]
    }
   },
   "version": "1.2.0"
  }
 },
 "nbformat": 4,
 "nbformat_minor": 1
}
