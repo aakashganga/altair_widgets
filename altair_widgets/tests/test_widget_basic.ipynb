{
 "cells": [
  {
   "cell_type": "code",
   "execution_count": 1,
   "metadata": {
    "ExecuteTime": {
     "end_time": "2016-10-30T22:46:56.523267",
     "start_time": "2016-10-30T22:46:55.805427"
    },
    "collapsed": false
   },
   "outputs": [
    {
     "data": {
      "text/plain": [
       "'setup'"
      ]
     },
     "execution_count": 1,
     "metadata": {},
     "output_type": "execute_result"
    }
   ],
   "source": [
    "\"\"\"setup\"\"\"\n",
    "import pandas as pd\n",
    "import pytest\n",
    "import sys\n",
    "sys.path.append('../..')\n",
    "from altair_widgets import interact_with\n",
    "from altair import load_dataset"
   ]
  },
  {
   "cell_type": "code",
   "execution_count": 2,
   "metadata": {
    "ExecuteTime": {
     "end_time": "2016-10-30T22:46:56.528624",
     "start_time": "2016-10-30T22:46:56.524603"
    },
    "collapsed": false,
    "scrolled": true
   },
   "outputs": [
    {
     "data": {
      "text/plain": [
       "'test_input_fail'"
      ]
     },
     "execution_count": 2,
     "metadata": {},
     "output_type": "execute_result"
    }
   ],
   "source": [
    "\"\"\"test_input_fail\"\"\"\n",
    "d = [{'a': 1, 'b': 2, 'c': 4}]*4\n",
    "\n",
    "with pytest.raises(ValueError):\n",
    "    interact_with(d)"
   ]
  },
  {
   "cell_type": "code",
   "execution_count": 3,
   "metadata": {
    "ExecuteTime": {
     "end_time": "2016-10-30T22:46:56.704209",
     "start_time": "2016-10-30T22:46:56.605873"
    },
    "collapsed": false
   },
   "outputs": [
    {
     "data": {
      "text/plain": [
       "'test_input'"
      ]
     },
     "execution_count": 3,
     "metadata": {},
     "output_type": "execute_result"
    },
    {
     "data": {
      "text/plain": [
       "<altair_widgets.widget.Interact at 0x1144f6fd0>"
      ]
     },
     "execution_count": 3,
     "metadata": {},
     "output_type": "execute_result"
    }
   ],
   "source": [
    "\"\"\"test_input\"\"\"\n",
    "df = pd.DataFrame(d)\n",
    "interact_with(df, show=False)"
   ]
  },
  {
   "cell_type": "code",
   "execution_count": 4,
   "metadata": {
    "ExecuteTime": {
     "end_time": "2016-10-30T22:47:00.626057",
     "start_time": "2016-10-30T22:47:00.163157"
    },
    "collapsed": false
   },
   "outputs": [
    {
     "data": {
      "text/plain": [
       "'test_basic_config'"
      ]
     },
     "execution_count": 4,
     "metadata": {},
     "output_type": "execute_result"
    }
   ],
   "source": [
    "\"\"\"test_basic_config\"\"\"\n",
    "df = load_dataset('iris')\n",
    "w = interact_with(df, show=False)\n",
    "w.settings['encodings'] = [{'encoding': 'x', 'column': 'petalWidth'},\n",
    "                           {'encoding': 'y', 'column': 'petalLength'},\n",
    "                           {'encoding': 'color', 'column': 'species'}]\n",
    "w.plot(show=False)"
   ]
  },
  {
   "cell_type": "code",
   "execution_count": 5,
   "metadata": {
    "ExecuteTime": {
     "end_time": "2016-10-30T22:47:12.192810",
     "start_time": "2016-10-30T22:47:12.164697"
    },
    "collapsed": false
   },
   "outputs": [
    {
     "data": {
      "text/plain": [
       "'test_generates_same_chart_as_altair'"
      ]
     },
     "execution_count": 5,
     "metadata": {},
     "output_type": "execute_result"
    }
   ],
   "source": [
    "\"\"\"test_generates_same_chart_as_altair\"\"\"\n",
    "import altair\n",
    "from altair import Chart\n",
    "\n",
    "c = Chart(df).mark_point().encode(\n",
    "    x='petalWidth', y='petalLength', color='species')\n",
    "\n",
    "assert type(w.chart) is altair.api.Chart\n",
    "assert c.to_dict() == w.chart.to_dict()"
   ]
  },
  {
   "cell_type": "code",
   "execution_count": 6,
   "metadata": {
    "ExecuteTime": {
     "end_time": "2016-10-30T22:47:17.890585",
     "start_time": "2016-10-30T22:47:17.764561"
    },
    "collapsed": false
   },
   "outputs": [
    {
     "data": {
      "text/plain": [
       "'test_bg_color'"
      ]
     },
     "execution_count": 6,
     "metadata": {},
     "output_type": "execute_result"
    }
   ],
   "source": [
    "\"\"\"test_bg_color\"\"\"\n",
    "w = interact_with(df, show=False)\n",
    "w.settings = {'mark': {'mark': 'mark_text', 'applyColorToBackground': True},\n",
    "              'encodings': [{'encoding': 'row', 'column': 'species'},\n",
    "                            {'encoding': 'color', 'column': 'petalLength'},\n",
    "                            {'encoding': 'text', 'column': ' '}]\n",
    "              }\n",
    "w.plot(show=False)\n",
    "c = Chart(df).mark_text(applyColorToBackground=True).encode(\n",
    "    row='species',\n",
    "    color='petalLength',\n",
    "    text=' ')\n",
    "    \n",
    "assert c.to_dict() == w.chart.to_dict()"
   ]
  },
  {
   "cell_type": "code",
   "execution_count": 7,
   "metadata": {
    "ExecuteTime": {
     "end_time": "2016-10-30T22:47:19.585406",
     "start_time": "2016-10-30T22:47:19.460365"
    },
    "collapsed": false
   },
   "outputs": [
    {
     "data": {
      "text/plain": [
       "'test_log'"
      ]
     },
     "execution_count": 7,
     "metadata": {},
     "output_type": "execute_result"
    }
   ],
   "source": [
    "\"\"\"test_log\"\"\"\n",
    "w = interact_with(df, show=False)\n",
    "w.settings['encodings'] = [{'encoding': 'x', 'column': 'petalWidth', 'scale': 'log'},\n",
    "                           {'encoding': 'y', 'column': 'petalLength'},\n",
    "                           {'encoding': 'color', 'column': 'species'}]\n",
    "w.plot(show=False)\n",
    "c = Chart(df).mark_point().encode(\n",
    "    x=altair.X('petalWidth', scale=altair.Scale(type='log')),\n",
    "    y='petalLength', color='species')\n",
    "    \n",
    "assert c.to_dict() == w.chart.to_dict()"
   ]
  },
  {
   "cell_type": "code",
   "execution_count": 8,
   "metadata": {
    "ExecuteTime": {
     "end_time": "2016-10-30T22:47:25.808965",
     "start_time": "2016-10-30T22:47:25.703442"
    },
    "collapsed": false
   },
   "outputs": [
    {
     "data": {
      "text/plain": [
       "'test_update'"
      ]
     },
     "execution_count": 8,
     "metadata": {},
     "output_type": "execute_result"
    }
   ],
   "source": [
    "\"\"\"test_update\"\"\"\n",
    "class Event:\n",
    "    def __init__(self, row, title, value):\n",
    "        self.row = row\n",
    "        self.title = title\n",
    "        self.value = value\n",
    "\n",
    "w = interact_with(df, show=False)\n",
    "w.settings['encodings'] = [{'encoding': 'x', 'column': 'petalWidth', 'scale': 'log'},\n",
    "                           {'encoding': 'y', 'column': 'petalLength'},\n",
    "                           {'encoding': 'color', 'column': 'species'}]\n",
    "old = 'linear'\n",
    "event = {'owner': Event(1, 'scale', old), 'old': old, 'new': 'log'}\n",
    "w._update(event)\n",
    "new_settings = [{'encoding': 'x', 'column': 'petalWidth', 'scale': 'log'},\n",
    "                {'encoding': 'y', 'column': 'petalLength', 'scale': 'log'},\n",
    "                {'encoding': 'color', 'column': 'species'}]\n",
    "\n",
    "assert new_settings == w.settings['encodings']"
   ]
  },
  {
   "cell_type": "code",
   "execution_count": null,
   "metadata": {
    "collapsed": true
   },
   "outputs": [],
   "source": []
  }
 ],
 "metadata": {
  "kernelspec": {
   "display_name": "Python [default]",
   "language": "python",
   "name": "python3"
  },
  "language_info": {
   "codemirror_mode": {
    "name": "ipython",
    "version": 3
   },
   "file_extension": ".py",
   "mimetype": "text/x-python",
   "name": "python",
   "nbconvert_exporter": "python",
   "pygments_lexer": "ipython3",
   "version": "3.5.2"
  },
  "nav_menu": {},
  "toc": {
   "navigate_menu": true,
   "number_sections": false,
   "sideBar": true,
   "threshold": "2",
   "toc_cell": false,
   "toc_section_display": "block",
   "toc_window_display": false
  }
 },
 "nbformat": 4,
 "nbformat_minor": 1
}
