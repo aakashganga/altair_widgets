{
 "cells": [
  {
   "cell_type": "code",
   "execution_count": null,
   "metadata": {
    "ExecuteTime": {
     "end_time": "2016-10-30T21:20:26.712272",
     "start_time": "2016-10-30T21:20:26.687125"
    },
    "collapsed": false
   },
   "outputs": [],
   "source": [
    "\"\"\"setup\"\"\"\n",
    "import pandas as pd\n",
    "import pytest\n",
    "import sys\n",
    "sys.path.append('../..')\n",
    "from altair_widgets import interact_with\n",
    "from altair import load_dataset"
   ]
  },
  {
   "cell_type": "code",
   "execution_count": null,
   "metadata": {
    "ExecuteTime": {
     "end_time": "2016-10-30T21:20:16.915698",
     "start_time": "2016-10-31T02:20:16.298Z"
    },
    "collapsed": false,
    "scrolled": true
   },
   "outputs": [],
   "source": [
    "\"\"\"test_input_fail\"\"\"\n",
    "d = [{'a': 1, 'b': 2, 'c': 4}]*4\n",
    "\n",
    "with pytest.raises(ValueError):\n",
    "    interact_with(d)"
   ]
  },
  {
   "cell_type": "code",
   "execution_count": null,
   "metadata": {
    "ExecuteTime": {
     "end_time": "2016-10-30T21:20:17.085952",
     "start_time": "2016-10-30T21:20:17.077363"
    },
    "collapsed": false
   },
   "outputs": [],
   "source": [
    "\"\"\"test_input\"\"\"\n",
    "df = pd.DataFrame(d)\n",
    "interact_with(df, show=False)"
   ]
  },
  {
   "cell_type": "code",
   "execution_count": null,
   "metadata": {
    "ExecuteTime": {
     "end_time": "2016-10-30T15:59:28.860166",
     "start_time": "2016-10-30T15:59:28.666645"
    },
    "collapsed": false
   },
   "outputs": [],
   "source": [
    "\"\"\"test_basic_config\"\"\"\n",
    "df = load_dataset('iris')\n",
    "w = interact_with(df, show=False)\n",
    "w.settings['encodings'] = [{'encoding': 'x', 'column': 'petalWidth'},\n",
    "                           {'encoding': 'y', 'column': 'petalLength'},\n",
    "                           {'encoding': 'color', 'column': 'species'}]\n",
    "w.plot(w.settings, show=False)"
   ]
  },
  {
   "cell_type": "code",
   "execution_count": null,
   "metadata": {
    "ExecuteTime": {
     "end_time": "2016-10-30T15:59:29.757840",
     "start_time": "2016-10-30T15:59:29.730635"
    },
    "collapsed": false
   },
   "outputs": [],
   "source": [
    "\"\"\"test_generates_same_chart_as_altair\"\"\"\n",
    "import altair\n",
    "from altair import Chart\n",
    "\n",
    "c = Chart(df).mark_point().encode(\n",
    "    x='petalWidth', y='petalLength', color='species')\n",
    "\n",
    "assert type(w.chart) is altair.api.Chart\n",
    "assert c.to_dict() == w.chart.to_dict()"
   ]
  },
  {
   "cell_type": "code",
   "execution_count": null,
   "metadata": {
    "ExecuteTime": {
     "end_time": "2016-10-30T21:20:11.550664",
     "start_time": "2016-10-30T21:20:11.487572"
    },
    "collapsed": false
   },
   "outputs": [],
   "source": [
    "\"\"\"test_bg_color\"\"\"\n",
    "w = interact_with(df, show=False)\n",
    "w.settings = {'mark': {'mark': 'mark_text', 'applyColorToBackground': True},\n",
    "              'encodings': [{'encoding': 'row', 'column': 'species'},\n",
    "                            {'encoding': 'color', 'column': 'petalLength'},\n",
    "                            {'encoding': 'text', 'column': ' '}]\n",
    "              }\n",
    "w.plot(w.settings, show=False)\n",
    "c = Chart(df).mark_text(applyColorToBackground=True).encode(\n",
    "    row='species',\n",
    "    color='petalLength',\n",
    "    text=' ')\n",
    "    \n",
    "assert c.to_dict() == w.chart.to_dict()"
   ]
  },
  {
   "cell_type": "code",
   "execution_count": null,
   "metadata": {
    "ExecuteTime": {
     "end_time": "2016-10-30T15:59:30.938505",
     "start_time": "2016-10-30T15:59:30.825701"
    },
    "collapsed": false
   },
   "outputs": [],
   "source": [
    "\"\"\"test_log\"\"\"\n",
    "w = interact_with(df, show=False)\n",
    "w.settings['encodings'] = [{'encoding': 'x', 'column': 'petalWidth', 'scale': 'log'},\n",
    "                           {'encoding': 'y', 'column': 'petalLength'},\n",
    "                           {'encoding': 'color', 'column': 'species'}]\n",
    "w.plot(w.settings, show=False)\n",
    "c = Chart(df).mark_point().encode(\n",
    "    x=altair.X('petalWidth', scale=altair.Scale(type='log')),\n",
    "    y='petalLength', color='species')\n",
    "    \n",
    "assert c.to_dict() == w.chart.to_dict()"
   ]
  },
  {
   "cell_type": "code",
   "execution_count": null,
   "metadata": {
    "ExecuteTime": {
     "end_time": "2016-10-30T16:17:24.250670",
     "start_time": "2016-10-30T16:17:24.161576"
    },
    "collapsed": false
   },
   "outputs": [],
   "source": [
    "\"\"\"test_update\"\"\"\n",
    "class Event:\n",
    "    def __init__(self, row, title, value):\n",
    "        self.row = row\n",
    "        self.title = title\n",
    "        self.value = value\n",
    "\n",
    "w = interact_with(df, show=False)\n",
    "w.settings['encodings'] = [{'encoding': 'x', 'column': 'petalWidth', 'scale': 'log'},\n",
    "                           {'encoding': 'y', 'column': 'petalLength'},\n",
    "                           {'encoding': 'color', 'column': 'species'}]\n",
    "old = 'linear'\n",
    "event = {'owner': Event(1, 'scale', old), 'old': old, 'new': 'log'}\n",
    "w.update(event)\n",
    "new_settings = [{'encoding': 'x', 'column': 'petalWidth', 'scale': 'log'},\n",
    "                {'encoding': 'y', 'column': 'petalLength', 'scale': 'log'},\n",
    "                {'encoding': 'color', 'column': 'species'}]\n",
    "\n",
    "assert new_settings == w.settings['encodings']"
   ]
  },
  {
   "cell_type": "code",
   "execution_count": null,
   "metadata": {
    "collapsed": true
   },
   "outputs": [],
   "source": []
  }
 ],
 "metadata": {
  "kernelspec": {
   "display_name": "Python [default]",
   "language": "python",
   "name": "python3"
  },
  "language_info": {
   "codemirror_mode": {
    "name": "ipython",
    "version": 3
   },
   "file_extension": ".py",
   "mimetype": "text/x-python",
   "name": "python",
   "nbconvert_exporter": "python",
   "pygments_lexer": "ipython3",
   "version": "3.5.2"
  },
  "nav_menu": {},
  "toc": {
   "navigate_menu": true,
   "number_sections": false,
   "sideBar": true,
   "threshold": "2",
   "toc_cell": false,
   "toc_section_display": "block",
   "toc_window_display": false
  }
 },
 "nbformat": 4,
 "nbformat_minor": 1
}
